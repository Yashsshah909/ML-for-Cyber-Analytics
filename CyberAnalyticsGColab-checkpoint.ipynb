{
 "cells": [
  {
   "cell_type": "markdown",
   "metadata": {
    "id": "HMqUIHpyhchE"
   },
   "source": [
    "Import libraries"
   ]
  },
  {
   "cell_type": "code",
   "execution_count": 28,
   "metadata": {
    "id": "JeEvRrnfiXSr"
   },
   "outputs": [],
   "source": [
    "import pandas as pd\n",
    "import numpy as np\n",
    "import torch as nn\n",
    "from sklearn.model_selection import train_test_split\n",
    "from sklearn.metrics import classification_report,confusion_matrix,accuracy_score,precision_recall_fscore_support\n",
    "from sklearn.metrics import f1_score\n",
    "from sklearn.ensemble import RandomForestClassifier,ExtraTreesClassifier\n",
    "from sklearn.tree import DecisionTreeClassifier\n",
    "from sklearn.preprocessing import LabelEncoder"
   ]
  },
  {
   "cell_type": "markdown",
   "metadata": {
    "id": "SHJPpRzShjnm"
   },
   "source": [
    "Fetch the csv files. "
   ]
  },
  {
   "cell_type": "code",
   "execution_count": 2,
   "metadata": {
    "id": "qkPbojy5x8NX"
   },
   "outputs": [],
   "source": [
    "d1=pd.read_csv('C:\\Yash_MS\\sem 2\\ML in cyber analytics CMPE 789\\TrafficLabelling/Friday-WorkingHours-Afternoon-DDos.pcap_ISCX.csv');\n",
    "d2=pd.read_csv('C:\\Yash_MS\\sem 2\\ML in cyber analytics CMPE 789\\TrafficLabelling/Friday-WorkingHours-Afternoon-PortScan.pcap_ISCX.csv');\n",
    "d3=pd.read_csv('C:\\Yash_MS\\sem 2\\ML in cyber analytics CMPE 789\\TrafficLabelling/Friday-WorkingHours-Morning.pcap_ISCX.csv');\n",
    "d4=pd.read_csv('C:\\Yash_MS\\sem 2\\ML in cyber analytics CMPE 789\\TrafficLabelling/Monday-WorkingHours.pcap_ISCX.csv');\n",
    "d5=pd.read_csv('C:\\Yash_MS\\sem 2\\ML in cyber analytics CMPE 789\\TrafficLabelling/Thursday-WorkingHours-Afternoon-Infilteration.pcap_ISCX.csv');\n",
    "d6=pd.read_csv('C:\\Yash_MS\\sem 2\\ML in cyber analytics CMPE 789\\TrafficLabelling/Thursday-WorkingHours-Morning-WebAttacks.pcap_ISCX.csv', nrows=170366,encoding = 'unicode_escape');\n",
    "d7=pd.read_csv('C:\\Yash_MS\\sem 2\\ML in cyber analytics CMPE 789\\TrafficLabelling/Tuesday-WorkingHours.pcap_ISCX.csv');\n",
    "d8=pd.read_csv('C:\\Yash_MS\\sem 2\\ML in cyber analytics CMPE 789\\TrafficLabelling/Wednesday-workingHours.pcap_ISCX.csv');\n"
   ]
  },
  {
   "cell_type": "markdown",
   "metadata": {
    "id": "7v4nejzQhnJ4"
   },
   "source": [
    "Data Cleaning"
   ]
  },
  {
   "cell_type": "code",
   "execution_count": 3,
   "metadata": {
    "colab": {
     "base_uri": "https://localhost:8080/"
    },
    "id": "kTPlawU49kCX",
    "outputId": "cd1fb251-e67a-4426-a53f-b89785ff68bb"
   },
   "outputs": [
    {
     "data": {
      "text/plain": [
       "[]"
      ]
     },
     "execution_count": 3,
     "metadata": {},
     "output_type": "execute_result"
    }
   ],
   "source": [
    "d6[d6['Flow ID'].isnull()].index.tolist()"
   ]
  },
  {
   "cell_type": "markdown",
   "metadata": {
    "id": "uHjpl2DhhqKG"
   },
   "source": [
    "Combine all the csv files"
   ]
  },
  {
   "cell_type": "code",
   "execution_count": 4,
   "metadata": {
    "id": "Kq661Lv9V0En"
   },
   "outputs": [],
   "source": [
    "frames = [d1,d2,d3,d4,d5,d6,d7,d8]\n",
    "d = pd.concat(frames)"
   ]
  },
  {
   "cell_type": "code",
   "execution_count": 5,
   "metadata": {
    "colab": {
     "base_uri": "https://localhost:8080/"
    },
    "id": "ewOOdbSTLbe0",
    "outputId": "f70ec2c5-e9e5-4de9-81dc-ddbaf4506d2a"
   },
   "outputs": [
    {
     "data": {
      "text/plain": [
       "(2830743, 85)"
      ]
     },
     "execution_count": 5,
     "metadata": {},
     "output_type": "execute_result"
    }
   ],
   "source": [
    "d.shape"
   ]
  },
  {
   "cell_type": "code",
   "execution_count": 6,
   "metadata": {
    "colab": {
     "base_uri": "https://localhost:8080/"
    },
    "id": "TDz5OQPB69Lm",
    "outputId": "21321b80-8142-4d6d-a1b7-4308ebf08e63"
   },
   "outputs": [
    {
     "name": "stdout",
     "output_type": "stream",
     "text": [
      "<class 'pandas.core.frame.DataFrame'>\n",
      "Int64Index: 2830743 entries, 0 to 692702\n",
      "Data columns (total 85 columns):\n",
      " #   Column                        Dtype  \n",
      "---  ------                        -----  \n",
      " 0   Flow ID                       object \n",
      " 1    Source IP                    object \n",
      " 2    Source Port                  int64  \n",
      " 3    Destination IP               object \n",
      " 4    Destination Port             int64  \n",
      " 5    Protocol                     int64  \n",
      " 6    Timestamp                    object \n",
      " 7    Flow Duration                int64  \n",
      " 8    Total Fwd Packets            int64  \n",
      " 9    Total Backward Packets       int64  \n",
      " 10  Total Length of Fwd Packets   float64\n",
      " 11   Total Length of Bwd Packets  float64\n",
      " 12   Fwd Packet Length Max        float64\n",
      " 13   Fwd Packet Length Min        float64\n",
      " 14   Fwd Packet Length Mean       float64\n",
      " 15   Fwd Packet Length Std        float64\n",
      " 16  Bwd Packet Length Max         float64\n",
      " 17   Bwd Packet Length Min        float64\n",
      " 18   Bwd Packet Length Mean       float64\n",
      " 19   Bwd Packet Length Std        float64\n",
      " 20  Flow Bytes/s                  float64\n",
      " 21   Flow Packets/s               float64\n",
      " 22   Flow IAT Mean                float64\n",
      " 23   Flow IAT Std                 float64\n",
      " 24   Flow IAT Max                 float64\n",
      " 25   Flow IAT Min                 float64\n",
      " 26  Fwd IAT Total                 float64\n",
      " 27   Fwd IAT Mean                 float64\n",
      " 28   Fwd IAT Std                  float64\n",
      " 29   Fwd IAT Max                  float64\n",
      " 30   Fwd IAT Min                  float64\n",
      " 31  Bwd IAT Total                 float64\n",
      " 32   Bwd IAT Mean                 float64\n",
      " 33   Bwd IAT Std                  float64\n",
      " 34   Bwd IAT Max                  float64\n",
      " 35   Bwd IAT Min                  float64\n",
      " 36  Fwd PSH Flags                 int64  \n",
      " 37   Bwd PSH Flags                int64  \n",
      " 38   Fwd URG Flags                int64  \n",
      " 39   Bwd URG Flags                int64  \n",
      " 40   Fwd Header Length            int64  \n",
      " 41   Bwd Header Length            int64  \n",
      " 42  Fwd Packets/s                 float64\n",
      " 43   Bwd Packets/s                float64\n",
      " 44   Min Packet Length            float64\n",
      " 45   Max Packet Length            float64\n",
      " 46   Packet Length Mean           float64\n",
      " 47   Packet Length Std            float64\n",
      " 48   Packet Length Variance       float64\n",
      " 49  FIN Flag Count                int64  \n",
      " 50   SYN Flag Count               int64  \n",
      " 51   RST Flag Count               int64  \n",
      " 52   PSH Flag Count               int64  \n",
      " 53   ACK Flag Count               int64  \n",
      " 54   URG Flag Count               int64  \n",
      " 55   CWE Flag Count               int64  \n",
      " 56   ECE Flag Count               int64  \n",
      " 57   Down/Up Ratio                float64\n",
      " 58   Average Packet Size          float64\n",
      " 59   Avg Fwd Segment Size         float64\n",
      " 60   Avg Bwd Segment Size         float64\n",
      " 61   Fwd Header Length.1          int64  \n",
      " 62  Fwd Avg Bytes/Bulk            int64  \n",
      " 63   Fwd Avg Packets/Bulk         int64  \n",
      " 64   Fwd Avg Bulk Rate            int64  \n",
      " 65   Bwd Avg Bytes/Bulk           int64  \n",
      " 66   Bwd Avg Packets/Bulk         int64  \n",
      " 67  Bwd Avg Bulk Rate             int64  \n",
      " 68  Subflow Fwd Packets           int64  \n",
      " 69   Subflow Fwd Bytes            int64  \n",
      " 70   Subflow Bwd Packets          int64  \n",
      " 71   Subflow Bwd Bytes            int64  \n",
      " 72  Init_Win_bytes_forward        int64  \n",
      " 73   Init_Win_bytes_backward      int64  \n",
      " 74   act_data_pkt_fwd             int64  \n",
      " 75   min_seg_size_forward         int64  \n",
      " 76  Active Mean                   float64\n",
      " 77   Active Std                   float64\n",
      " 78   Active Max                   float64\n",
      " 79   Active Min                   float64\n",
      " 80  Idle Mean                     float64\n",
      " 81   Idle Std                     float64\n",
      " 82   Idle Max                     float64\n",
      " 83   Idle Min                     float64\n",
      " 84   Label                        object \n",
      "dtypes: float64(45), int64(35), object(5)\n",
      "memory usage: 1.8+ GB\n",
      "None\n"
     ]
    }
   ],
   "source": [
    "print(d.info())\n"
   ]
  },
  {
   "cell_type": "markdown",
   "metadata": {
    "id": "2-s9EtEOhu1i"
   },
   "source": [
    "Find null values in Flow Bytes"
   ]
  },
  {
   "cell_type": "code",
   "execution_count": 7,
   "metadata": {
    "colab": {
     "base_uri": "https://localhost:8080/"
    },
    "id": "c31cKgJZ_Sk1",
    "outputId": "51b3519e-d66e-4b48-eec9-7fd3bac370a6"
   },
   "outputs": [
    {
     "data": {
      "text/plain": [
       "1358"
      ]
     },
     "execution_count": 7,
     "metadata": {},
     "output_type": "execute_result"
    }
   ],
   "source": [
    "d['Flow Bytes/s'].isnull().sum() "
   ]
  },
  {
   "cell_type": "markdown",
   "metadata": {
    "id": "0U2ghMJUhyp2"
   },
   "source": [
    "Substitute null values with the mean of the values in the column"
   ]
  },
  {
   "cell_type": "code",
   "execution_count": 8,
   "metadata": {
    "id": "l-QVljkf_aoF"
   },
   "outputs": [],
   "source": [
    "column_means = d['Flow Bytes/s'].mean()\n",
    "d['Flow Bytes/s'] = d['Flow Bytes/s'].fillna(column_means)"
   ]
  },
  {
   "cell_type": "code",
   "execution_count": 9,
   "metadata": {
    "colab": {
     "base_uri": "https://localhost:8080/"
    },
    "id": "Ccm6TxcV__qL",
    "outputId": "d0b2918c-0185-4c5f-b34b-b0c83c3421ce"
   },
   "outputs": [
    {
     "data": {
      "text/plain": [
       "0"
      ]
     },
     "execution_count": 9,
     "metadata": {},
     "output_type": "execute_result"
    }
   ],
   "source": [
    "d['Flow Bytes/s'].isnull().sum() "
   ]
  },
  {
   "cell_type": "markdown",
   "metadata": {
    "id": "usO0_7QEh5z5"
   },
   "source": [
    "Check for infinite values"
   ]
  },
  {
   "cell_type": "code",
   "execution_count": 10,
   "metadata": {
    "colab": {
     "base_uri": "https://localhost:8080/"
    },
    "id": "BR7Nq3uMACka",
    "outputId": "a9fae89c-c222-43c1-d282-62487bdf574b"
   },
   "outputs": [
    {
     "data": {
      "text/plain": [
       "2867"
      ]
     },
     "execution_count": 10,
     "metadata": {},
     "output_type": "execute_result"
    }
   ],
   "source": [
    "c = np.isinf(d['Flow Bytes/s']).values.sum()\n",
    "c"
   ]
  },
  {
   "cell_type": "markdown",
   "metadata": {
    "id": "R6wJc5_Mh8Ku"
   },
   "source": [
    "Substitute inf values with the max value of the column"
   ]
  },
  {
   "cell_type": "code",
   "execution_count": 11,
   "metadata": {
    "id": "11hu4itLAaE1"
   },
   "outputs": [],
   "source": [
    "m = d.loc[d['Flow Bytes/s'] != np.inf, 'Flow Bytes/s'].max()\n",
    "d['Flow Bytes/s'].replace(np.inf,m,inplace=True)"
   ]
  },
  {
   "cell_type": "code",
   "execution_count": 12,
   "metadata": {
    "colab": {
     "base_uri": "https://localhost:8080/"
    },
    "id": "5x9iQN0BGGFt",
    "outputId": "02378b87-c04b-41e6-82d9-c903b607be3c"
   },
   "outputs": [
    {
     "data": {
      "text/plain": [
       "0"
      ]
     },
     "execution_count": 12,
     "metadata": {},
     "output_type": "execute_result"
    }
   ],
   "source": [
    "c=np.isinf(d['Flow Bytes/s']).values.sum()\n",
    "c"
   ]
  },
  {
   "cell_type": "markdown",
   "metadata": {
    "id": "SiY2khd6iAps"
   },
   "source": [
    "Follow the same procedure for column Flow Packets"
   ]
  },
  {
   "cell_type": "code",
   "execution_count": 13,
   "metadata": {
    "colab": {
     "base_uri": "https://localhost:8080/"
    },
    "id": "IUIqgZtDGIaR",
    "outputId": "250fedba-def0-4bc2-e051-1dd6ec14bb95"
   },
   "outputs": [
    {
     "data": {
      "text/plain": [
       "0"
      ]
     },
     "execution_count": 13,
     "metadata": {},
     "output_type": "execute_result"
    }
   ],
   "source": [
    "d[' Flow Packets/s'].isnull().sum() "
   ]
  },
  {
   "cell_type": "code",
   "execution_count": 14,
   "metadata": {
    "colab": {
     "base_uri": "https://localhost:8080/"
    },
    "id": "IZfSoWvUHRKE",
    "outputId": "7314a6e2-1578-438d-f177-5ddeb3fe9039"
   },
   "outputs": [
    {
     "data": {
      "text/plain": [
       "2867"
      ]
     },
     "execution_count": 14,
     "metadata": {},
     "output_type": "execute_result"
    }
   ],
   "source": [
    "e = np.isinf(d[' Flow Packets/s']).values.sum()\n",
    "e"
   ]
  },
  {
   "cell_type": "code",
   "execution_count": 15,
   "metadata": {
    "id": "wx5Ma2n5HcCx"
   },
   "outputs": [],
   "source": [
    "m = d.loc[d[' Flow Packets/s'] != np.inf, ' Flow Packets/s'].max()\n",
    "d[' Flow Packets/s'].replace(np.inf,m,inplace=True)"
   ]
  },
  {
   "cell_type": "code",
   "execution_count": 16,
   "metadata": {
    "colab": {
     "base_uri": "https://localhost:8080/"
    },
    "id": "94vlf9AOHhkh",
    "outputId": "2df2220f-06b9-4665-9d66-2d0a95c27d42"
   },
   "outputs": [
    {
     "data": {
      "text/plain": [
       "0"
      ]
     },
     "execution_count": 16,
     "metadata": {},
     "output_type": "execute_result"
    }
   ],
   "source": [
    "e = np.isinf(d[' Flow Packets/s']).values.sum()\n",
    "e"
   ]
  },
  {
   "cell_type": "code",
   "execution_count": 17,
   "metadata": {
    "colab": {
     "base_uri": "https://localhost:8080/"
    },
    "id": "EwaH4XuqHjDM",
    "outputId": "f7448b4f-001c-4e35-aa6f-92cf29b39188"
   },
   "outputs": [
    {
     "data": {
      "text/plain": [
       "0"
      ]
     },
     "execution_count": 17,
     "metadata": {},
     "output_type": "execute_result"
    }
   ],
   "source": [
    "d.isnull().sum().sum()"
   ]
  },
  {
   "cell_type": "markdown",
   "metadata": {
    "id": "BGG1lvyQ65IA"
   },
   "source": [
    "Dropping the columns which are insignificant. The values in these columns are all zero or a constant value throught the column"
   ]
  },
  {
   "cell_type": "code",
   "execution_count": 18,
   "metadata": {
    "id": "vStHYv224pUP"
   },
   "outputs": [],
   "source": [
    "d = d.drop(columns = [' Bwd PSH Flags', ' Fwd URG Flags', ' Bwd URG Flags', ' CWE Flag Count', 'Fwd Avg Bytes/Bulk', ' Fwd Avg Packets/Bulk', ' Fwd Avg Bulk Rate', ' Bwd Avg Bytes/Bulk', ' Bwd Avg Packets/Bulk', 'Bwd Avg Bulk Rate'])"
   ]
  },
  {
   "cell_type": "code",
   "execution_count": 19,
   "metadata": {
    "id": "an4nZGO7JcyP"
   },
   "outputs": [],
   "source": [
    "df=d"
   ]
  },
  {
   "cell_type": "code",
   "execution_count": 20,
   "metadata": {
    "colab": {
     "base_uri": "https://localhost:8080/"
    },
    "id": "YbaaYpUH6yG1",
    "outputId": "e8993140-d36e-418f-a91a-080452d80625"
   },
   "outputs": [
    {
     "data": {
      "text/plain": [
       "53805"
      ]
     },
     "execution_count": 20,
     "metadata": {},
     "output_type": "execute_result"
    }
   ],
   "source": [
    "dp = df[\" Destination Port\"].nunique()\n",
    "dp"
   ]
  },
  {
   "cell_type": "markdown",
   "metadata": {
    "id": "K-nit88s0IrI"
   },
   "source": [
    "Convert datatype of features that are actually categorical but is numeric in the data."
   ]
  },
  {
   "cell_type": "code",
   "execution_count": 21,
   "metadata": {
    "id": "vsEbcFMAy9Aq"
   },
   "outputs": [],
   "source": [
    "df[' Destination Port'] = df[' Destination Port'].apply(str)\n",
    "df[' Source Port'] = df[' Source Port'].apply(str)\n",
    "df[' Protocol'] = df[' Protocol'].apply(str)\n"
   ]
  },
  {
   "cell_type": "code",
   "execution_count": 22,
   "metadata": {},
   "outputs": [],
   "source": [
    "df = df.drop(columns = [' Destination Port', ' Source Port', ' Protocol', 'Flow ID', ' Source IP', ' Timestamp', ' Destination IP'])"
   ]
  },
  {
   "cell_type": "markdown",
   "metadata": {
    "id": "_ZIooCHqyLmQ"
   },
   "source": [
    "Normalize the numerical features"
   ]
  },
  {
   "cell_type": "code",
   "execution_count": 23,
   "metadata": {
    "id": "K6gJGCzG0YDT"
   },
   "outputs": [],
   "source": [
    "nums = df.dtypes[df.dtypes != 'object'].index\n",
    "df[nums] = df[nums].apply(\n",
    "    lambda x: (x - x.min()) / (x.max()-x.min()))"
   ]
  },
  {
   "cell_type": "markdown",
   "metadata": {
    "id": "424dX_GTyYxx"
   },
   "source": [
    "Split X and y"
   ]
  },
  {
   "cell_type": "code",
   "execution_count": 29,
   "metadata": {
    "id": "dXx301bVxpgs"
   },
   "outputs": [],
   "source": [
    "labelencoder = LabelEncoder()\n",
    "df.iloc[:, -1] = labelencoder.fit_transform(df.iloc[:, -1])\n",
    "y = df.iloc[:, -1]\n",
    "\n",
    "X = df.iloc[:,0:67]\n",
    "\n"
   ]
  },
  {
   "cell_type": "markdown",
   "metadata": {
    "id": "069VAwUe7NGB"
   },
   "source": [
    "split into train and test data."
   ]
  },
  {
   "cell_type": "code",
   "execution_count": 30,
   "metadata": {
    "id": "HTIKPsynyYAX"
   },
   "outputs": [],
   "source": [
    "X_train, X_test, y_train, y_test = train_test_split(X,y, train_size = 0.8, test_size = 0.2, random_state = 0,stratify = y)"
   ]
  },
  {
   "cell_type": "markdown",
   "metadata": {
    "id": "RAUjSb4D7TNe"
   },
   "source": [
    "Decision Tree"
   ]
  },
  {
   "cell_type": "code",
   "execution_count": 31,
   "metadata": {
    "colab": {
     "base_uri": "https://localhost:8080/",
     "height": 235
    },
    "id": "pSYTHCdF7nZI",
    "outputId": "baaf2688-37fb-4023-d26b-805b0b648b96"
   },
   "outputs": [
    {
     "name": "stdout",
     "output_type": "stream",
     "text": [
      "Accuracy of DT: 0.9984844978971966\n",
      "Precision of DT: 0.9984802697022288\n",
      "Recall of DT: 0.9984844978971966\n",
      "F1-score of DT: 0.9984811550554609\n",
      "              precision    recall  f1-score   support\n",
      "\n",
      "           0       1.00      1.00      1.00    454620\n",
      "           1       0.81      0.80      0.80       393\n",
      "           2       1.00      1.00      1.00     25606\n",
      "           3       0.99      0.99      0.99      2059\n",
      "           4       1.00      1.00      1.00     46215\n",
      "           5       0.97      0.94      0.95      1100\n",
      "           6       0.99      1.00      0.99      1159\n",
      "           7       0.98      1.00      0.99      1588\n",
      "           8       1.00      1.00      1.00         2\n",
      "           9       0.75      0.86      0.80         7\n",
      "          10       0.99      1.00      1.00     31786\n",
      "          11       1.00      1.00      1.00      1179\n",
      "          12       0.76      0.77      0.77       301\n",
      "          13       0.33      0.25      0.29         4\n",
      "          14       0.46      0.44      0.45       130\n",
      "\n",
      "    accuracy                           1.00    566149\n",
      "   macro avg       0.87      0.87      0.87    566149\n",
      "weighted avg       1.00      1.00      1.00    566149\n",
      "\n"
     ]
    }
   ],
   "source": [
    "DT = DecisionTreeClassifier(random_state = 0)\n",
    "DT.fit(X_train,y_train) \n",
    "DT_score=DT.score(X_test,y_test)\n",
    "y_predict=DT.predict(X_test)\n",
    "y_true=y_test\n",
    "print('Accuracy of DT: '+ str(DT_score))\n",
    "precision,recall,fscore,none= precision_recall_fscore_support(y_true, y_predict, average='weighted') \n",
    "print('Precision of DT: '+(str(precision)))\n",
    "print('Recall of DT: '+(str(recall)))\n",
    "print('F1-score of DT: '+(str(fscore)))\n",
    "print(classification_report(y_true,y_predict))"
   ]
  },
  {
   "cell_type": "code",
   "execution_count": null,
   "metadata": {},
   "outputs": [],
   "source": []
  },
  {
   "cell_type": "code",
   "execution_count": null,
   "metadata": {},
   "outputs": [],
   "source": []
  }
 ],
 "metadata": {
  "accelerator": "GPU",
  "colab": {
   "collapsed_sections": [],
   "name": "CyberAnalyticsGColab.ipynb",
   "provenance": []
  },
  "kernelspec": {
   "display_name": "Python 3",
   "language": "python",
   "name": "python3"
  },
  "language_info": {
   "codemirror_mode": {
    "name": "ipython",
    "version": 3
   },
   "file_extension": ".py",
   "mimetype": "text/x-python",
   "name": "python",
   "nbconvert_exporter": "python",
   "pygments_lexer": "ipython3",
   "version": "3.8.8"
  }
 },
 "nbformat": 4,
 "nbformat_minor": 1
}
